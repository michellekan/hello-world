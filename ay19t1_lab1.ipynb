{
  "nbformat": 4,
  "nbformat_minor": 0,
  "metadata": {
    "colab": {
      "name": "ay19t1-lab1.ipynb",
      "version": "0.3.2",
      "provenance": [],
      "collapsed_sections": [],
      "include_colab_link": true
    },
    "kernelspec": {
      "name": "python3",
      "display_name": "Python 3"
    }
  },
  "cells": [
    {
      "cell_type": "markdown",
      "metadata": {
        "id": "view-in-github",
        "colab_type": "text"
      },
      "source": [
        "<a href=\"https://colab.research.google.com/github/michellekan/hello-world/blob/master/ay19t1_lab1.ipynb\" target=\"_parent\"><img src=\"https://colab.research.google.com/assets/colab-badge.svg\" alt=\"Open In Colab\"/></a>"
      ]
    },
    {
      "cell_type": "markdown",
      "metadata": {
        "id": "7Kyw3QP8jRM9",
        "colab_type": "text"
      },
      "source": [
        "**IS111 Introduction to Programming (G5, G6 & G11)** <br>\n",
        "AY2019-20 Term 1 <br>\n",
        "Lab 1\n",
        "<hr>"
      ]
    },
    {
      "cell_type": "markdown",
      "metadata": {
        "id": "7-Zw1x6i6oNh",
        "colab_type": "text"
      },
      "source": [
        ""
      ]
    },
    {
      "cell_type": "markdown",
      "metadata": {
        "id": "E_LwmKwelKyL",
        "colab_type": "text"
      },
      "source": [
        "**Qn 1.1 Body Mass Index (BMI) Calculator** <br>\n",
        "\n",
        "Write a code snippet that asks the user for his/her height (in cm) and weight (in kg). Compute and print the BMI (correct to 2 decimal places) based on the formula:\n",
        "<br>\n",
        "<center>bmi = weight (kg)/height(m) x height(m)</center>\n"
      ]
    },
    {
      "cell_type": "markdown",
      "metadata": {
        "id": "8O9JSg4L6p6Q",
        "colab_type": "text"
      },
      "source": [
        ""
      ]
    },
    {
      "cell_type": "code",
      "metadata": {
        "id": "lgWlmDwwun6e",
        "colab_type": "code",
        "outputId": "ba2cafee-9d7e-4c20-e9d6-61cf031e2659",
        "colab": {
          "base_uri": "https://localhost:8080/",
          "height": 70
        }
      },
      "source": [
        "height=int(input(\"Please type in your height in cm: \"))\n",
        "weight=int(input(\"Please type in your weight in kg: \"))\n",
        "\n",
        "print(\"Your BMI is\",round((weight/(height**2)*10000),2))"
      ],
      "execution_count": 0,
      "outputs": [
        {
          "output_type": "stream",
          "text": [
            "Please type in your height in cm: 120\n",
            "Please type in your weight in kg: 30\n",
            "Your BMI is 20.83\n"
          ],
          "name": "stdout"
        }
      ]
    },
    {
      "cell_type": "code",
      "metadata": {
        "id": "wLlm1kqwu0Sh",
        "colab_type": "code",
        "colab": {}
      },
      "source": [
        "weight=int(input(\"Please type in your weight in kg:\"))"
      ],
      "execution_count": 0,
      "outputs": []
    },
    {
      "cell_type": "code",
      "metadata": {
        "id": "q1ezeUyDlxcZ",
        "colab_type": "code",
        "colab": {}
      },
      "source": [
        ""
      ],
      "execution_count": 0,
      "outputs": []
    }
  ]
}